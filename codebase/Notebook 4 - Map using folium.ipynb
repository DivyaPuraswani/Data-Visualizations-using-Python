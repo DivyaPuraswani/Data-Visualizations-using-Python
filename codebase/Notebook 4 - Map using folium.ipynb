{
 "cells": [
  {
   "cell_type": "markdown",
   "metadata": {},
   "source": [
    "Folium is a powerful Python library that helps in creating several types of Leaflet maps."
   ]
  },
  {
   "cell_type": "code",
   "execution_count": 4,
   "metadata": {},
   "outputs": [
    {
     "name": "stdout",
     "output_type": "stream",
     "text": [
      "Requirement already satisfied: folium in /Users/divyapuraswani/anaconda3/lib/python3.6/site-packages (0.9.0)\n",
      "Requirement already satisfied: jinja2>=2.9 in /Users/divyapuraswani/anaconda3/lib/python3.6/site-packages (from folium) (2.10)\n",
      "Requirement already satisfied: requests in /Users/divyapuraswani/anaconda3/lib/python3.6/site-packages (from folium) (2.18.4)\n",
      "Requirement already satisfied: numpy in /Users/divyapuraswani/anaconda3/lib/python3.6/site-packages (from folium) (1.14.3)\n",
      "Requirement already satisfied: branca>=0.3.0 in /Users/divyapuraswani/anaconda3/lib/python3.6/site-packages (from folium) (0.3.1)\n",
      "Requirement already satisfied: MarkupSafe>=0.23 in /Users/divyapuraswani/anaconda3/lib/python3.6/site-packages (from jinja2>=2.9->folium) (1.0)\n",
      "Requirement already satisfied: chardet<3.1.0,>=3.0.2 in /Users/divyapuraswani/anaconda3/lib/python3.6/site-packages (from requests->folium) (3.0.4)\n",
      "Requirement already satisfied: idna<2.7,>=2.5 in /Users/divyapuraswani/anaconda3/lib/python3.6/site-packages (from requests->folium) (2.6)\n",
      "Requirement already satisfied: urllib3<1.23,>=1.21.1 in /Users/divyapuraswani/anaconda3/lib/python3.6/site-packages (from requests->folium) (1.22)\n",
      "Requirement already satisfied: certifi>=2017.4.17 in /Users/divyapuraswani/anaconda3/lib/python3.6/site-packages (from requests->folium) (2018.4.16)\n",
      "Requirement already satisfied: six in /Users/divyapuraswani/anaconda3/lib/python3.6/site-packages (from branca>=0.3.0->folium) (1.11.0)\n",
      "\u001b[31mdistributed 1.21.8 requires msgpack, which is not installed.\u001b[0m\n",
      "\u001b[33mYou are using pip version 10.0.1, however version 19.1.1 is available.\n",
      "You should consider upgrading via the 'pip install --upgrade pip' command.\u001b[0m\n"
     ]
    }
   ],
   "source": [
    "!pip install folium"
   ]
  },
  {
   "cell_type": "code",
   "execution_count": 6,
   "metadata": {},
   "outputs": [
    {
     "data": {
      "text/html": [
       "<div style=\"width:100%;\"><div style=\"position:relative;width:100%;height:0;padding-bottom:60%;\"><iframe src=\"data:text/html;charset=utf-8;base64,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\" style=\"position:absolute;width:100%;height:100%;left:0;top:0;border:none !important;\" allowfullscreen webkitallowfullscreen mozallowfullscreen></iframe></div></div>"
      ],
      "text/plain": [
       "<folium.folium.Map at 0x10db90c88>"
      ]
     },
     "execution_count": 6,
     "metadata": {},
     "output_type": "execute_result"
    }
   ],
   "source": [
    "import folium\n",
    "phone_map = folium.Map()\n",
    "\n",
    "# Top three smart phone companies by market share in 2016\n",
    "companies = [\n",
    "    {'loc': [37.4970,  127.0266], 'label': 'Samsung: 20.5%'},\n",
    "    {'loc': [37.3318, -122.0311], 'label': 'Apple: 14.4%'},\n",
    "    {'loc': [22.5431,  114.0579], 'label': 'Huawei: 8.9%'},\n",
    "    {'loc': [45.5236, -122.6750],'label': 'Pixel: 7.5%'}] \n",
    "\n",
    "# Adding markers to the map\n",
    "for company in companies:\n",
    "    marker = folium.Marker(location=company['loc'], popup=company['label'])\n",
    "    marker.add_to(phone_map)\n",
    "\n",
    "# The last object in the cell always gets shown in the notebook\n",
    "phone_map\n"
   ]
  },
  {
   "cell_type": "code",
   "execution_count": null,
   "metadata": {},
   "outputs": [],
   "source": []
  }
 ],
 "metadata": {
  "kernelspec": {
   "display_name": "Python 3",
   "language": "python",
   "name": "python3"
  },
  "language_info": {
   "codemirror_mode": {
    "name": "ipython",
    "version": 3
   },
   "file_extension": ".py",
   "mimetype": "text/x-python",
   "name": "python",
   "nbconvert_exporter": "python",
   "pygments_lexer": "ipython3",
   "version": "3.6.5"
  }
 },
 "nbformat": 4,
 "nbformat_minor": 2
}
